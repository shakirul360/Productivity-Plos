{
 "cells": [
  {
   "cell_type": "code",
   "execution_count": 1,
   "id": "7ee98798",
   "metadata": {},
   "outputs": [
    {
     "name": "stdout",
     "output_type": "stream",
     "text": [
      "Null Hypothesis (H₀): There is no significant relationship between weekend and weekday productivity scores.\n",
      "Alternative Hypothesis (H₁): There is a significant relationship between weekend and weekday productivity scores.\n",
      "\n",
      "Pearson Correlation Coefficient: 0.33\n",
      "Pearson p-value: 0.0000\n",
      "Result: Reject the null hypothesis for Pearson correlation.\n",
      "\n",
      "Spearman Rank Correlation Coefficient: 0.28\n",
      "Spearman p-value: 0.0000\n",
      "Result: Reject the null hypothesis for Spearman correlation.\n",
      "\n",
      "Interpretation:\n",
      "Both tests suggest a significant relationship between weekday and weekend productivity scores.\n"
     ]
    }
   ],
   "source": [
    "# Import necessary libraries\n",
    "import pandas as pd\n",
    "from scipy.stats import pearsonr, spearmanr\n",
    "\n",
    "# Load the dataset\n",
    "df = pd.read_csv(\"DailyActivitiesPreProcessed.csv\")\n",
    "\n",
    "# Hypotheses\n",
    "print(\"Null Hypothesis (H₀): There is no significant relationship between weekend and weekday productivity scores.\")\n",
    "print(\"Alternative Hypothesis (H₁): There is a significant relationship between weekend and weekday productivity scores.\\n\")\n",
    "\n",
    "# Extract relevant columns\n",
    "weekday_scores = df['Productivity_score_weekday']\n",
    "weekend_scores = df['Productivity_score_weekend']\n",
    "\n",
    "# Perform Pearson Correlation Coefficient Test\n",
    "pearson_corr, pearson_p = pearsonr(weekday_scores, weekend_scores)\n",
    "print(f\"Pearson Correlation Coefficient: {pearson_corr:.2f}\")\n",
    "print(f\"Pearson p-value: {pearson_p:.4f}\")\n",
    "\n",
    "if pearson_p < 0.05:\n",
    "    print(\"Result: Reject the null hypothesis for Pearson correlation.\\n\")\n",
    "else:\n",
    "    print(\"Result: Fail to reject the null hypothesis for Pearson correlation.\\n\")\n",
    "\n",
    "# Perform Spearman's Rank Correlation Test\n",
    "spearman_corr, spearman_p = spearmanr(weekday_scores, weekend_scores)\n",
    "print(f\"Spearman Rank Correlation Coefficient: {spearman_corr:.2f}\")\n",
    "print(f\"Spearman p-value: {spearman_p:.4f}\")\n",
    "\n",
    "if spearman_p < 0.05:\n",
    "    print(\"Result: Reject the null hypothesis for Spearman correlation.\\n\")\n",
    "else:\n",
    "    print(\"Result: Fail to reject the null hypothesis for Spearman correlation.\\n\")\n",
    "\n",
    "# Interpretation\n",
    "print(\"Interpretation:\")\n",
    "if pearson_p < 0.05 and spearman_p < 0.05:\n",
    "    print(\"Both tests suggest a significant relationship between weekday and weekend productivity scores.\")\n",
    "elif pearson_p < 0.05:\n",
    "    print(\"The Pearson test suggests a significant linear relationship, but Spearman does not confirm rank-based correlation.\")\n",
    "elif spearman_p < 0.05:\n",
    "    print(\"The Spearman test suggests a significant rank-based relationship, but Pearson does not confirm linear correlation.\")\n",
    "else:\n",
    "    print(\"Neither test indicates a significant relationship between weekday and weekend productivity scores.\")\n"
   ]
  },
  {
   "cell_type": "code",
   "execution_count": null,
   "id": "81c91779",
   "metadata": {},
   "outputs": [],
   "source": []
  }
 ],
 "metadata": {
  "kernelspec": {
   "display_name": "Python 3 (ipykernel)",
   "language": "python",
   "name": "python3"
  },
  "language_info": {
   "codemirror_mode": {
    "name": "ipython",
    "version": 3
   },
   "file_extension": ".py",
   "mimetype": "text/x-python",
   "name": "python",
   "nbconvert_exporter": "python",
   "pygments_lexer": "ipython3",
   "version": "3.11.4"
  }
 },
 "nbformat": 4,
 "nbformat_minor": 5
}
